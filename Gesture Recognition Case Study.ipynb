{
 "cells": [
  {
   "cell_type": "markdown",
   "metadata": {},
   "source": [
    "# Gesture Recognition\n",
    "In this group project, you are going to build a 3D Conv model that will be able to predict the 5 gestures correctly. Please import the following libraries to get started."
   ]
  },
  {
   "cell_type": "code",
   "execution_count": 1,
   "metadata": {},
   "outputs": [],
   "source": [
    "import numpy as np\n",
    "import os\n",
    "# from scipy.misc import imread, imresize\n",
    "import datetime\n",
    "import os\n",
    "import imageio\n",
    "from skimage.transform import resize\n",
    "from PIL import Image "
   ]
  },
  {
   "cell_type": "markdown",
   "metadata": {},
   "source": [
    "We set the random seed so that the results don't vary drastically."
   ]
  },
  {
   "cell_type": "code",
   "execution_count": 2,
   "metadata": {},
   "outputs": [
    {
     "name": "stderr",
     "output_type": "stream",
     "text": [
      "Using TensorFlow backend.\n"
     ]
    }
   ],
   "source": [
    "np.random.seed(30)\n",
    "import random as rn\n",
    "rn.seed(30)\n",
    "from keras import backend as K\n",
    "import tensorflow as tf\n",
    "tf.set_random_seed(30)"
   ]
  },
  {
   "cell_type": "markdown",
   "metadata": {},
   "source": [
    "In this block, you read the folder names for training and validation. You also set the `batch_size` here. Note that you set the batch size in such a way that you are able to use the GPU in full capacity. You keep increasing the batch size until the machine throws an error."
   ]
  },
  {
   "cell_type": "code",
   "execution_count": 3,
   "metadata": {},
   "outputs": [],
   "source": [
    "train_doc = np.random.permutation(open('Project_data/train.csv').readlines())\n",
    "val_doc = np.random.permutation(open('Project_data/val.csv').readlines())\n",
    "batch_size = 51"
   ]
  },
  {
   "cell_type": "markdown",
   "metadata": {},
   "source": [
    "## Generator\n",
    "This is one of the most important part of the code. The overall structure of the generator has been given. In the generator, you are going to preprocess the images as you have images of 2 different dimensions as well as create a batch of video frames. You have to experiment with some of the parts of the generator function such that you get high accuracy."
   ]
  },
  {
   "cell_type": "code",
   "execution_count": 4,
   "metadata": {},
   "outputs": [],
   "source": [
    "def generator(source_path, folder_list, batch_size):\n",
    "    print( 'Source path = ', source_path, '; batch size =', batch_size)\n",
    "    img_idx = [0,1,2,4,6,8,10,12,14,16,18,20,22,24,26,27,28,29]\n",
    "    while True:\n",
    "        t = np.random.permutation(folder_list)\n",
    "        num_batches = int(len(t)/batch_size)\n",
    "        for batch in range(num_batches):\n",
    "            batch_data = np.zeros((batch_size,18,84,84,3))\n",
    "            batch_labels = np.zeros((batch_size,5))\n",
    "            for folder in range(batch_size):\n",
    "                imgs = os.listdir(source_path+'/'+ t[folder + (batch*batch_size)].split(';')[0])\n",
    "                for idx,item in enumerate(img_idx):\n",
    "                    image = imageio.imread(source_path+'/'+ t[folder + (batch*batch_size)].strip().split(';')[0]+'/'+imgs[item]).astype(np.float32)\n",
    "                    if image.shape[1] == 160:\n",
    "                        image = resize(image[:,20:140,:],(84,84)).astype(np.float32)\n",
    "                    else:\n",
    "                        image = resize(image,(84,84)).astype(np.float32)\n",
    "                    \n",
    "                    batch_data[folder,idx,:,:,0] = image[:,:,0] - 104\n",
    "                    batch_data[folder,idx,:,:,1] = image[:,:,1] - 117\n",
    "                    batch_data[folder,idx,:,:,2] = image[:,:,2] - 123\n",
    "                    \n",
    "                batch_labels[folder, int(t[folder + (batch*batch_size)].strip().split(';')[2])] = 1\n",
    "            yield batch_data, batch_labels\n",
    "\n",
    "        if (len(t)%batch_size) != 0:\n",
    "            batch_data = np.zeros((len(t)%batch_size,18,84,84,3))\n",
    "            batch_labels = np.zeros((len(t)%batch_size,5))\n",
    "            for folder in range(len(t)%batch_size):\n",
    "                imgs = os.listdir(source_path+'/'+ t[folder + (num_batches*batch_size)].split(';')[0])\n",
    "                for idx,item in enumerate(img_idx):\n",
    "                    image = imageio.imread(source_path+'/'+ t[folder + (num_batches*batch_size)].strip().split(';')[0]+'/'+imgs[item]).astype(np.float32)\n",
    "                    if image.shape[1] == 160:\n",
    "                        image = resize(image[:,20:140,:],(84,84)).astype(np.float32)\n",
    "                    else:\n",
    "                        image = resize(image,(84,84)).astype(np.float32)\n",
    "\n",
    "                    batch_data[folder,idx,:,:,0] = image[:,:,0] - 104\n",
    "                    batch_data[folder,idx,:,:,1] = image[:,:,1] - 117\n",
    "                    batch_data[folder,idx,:,:,2] = image[:,:,2] - 123\n",
    "\n",
    "                batch_labels[folder, int(t[folder + (num_batches*batch_size)].strip().split(';')[2])] = 1\n",
    "\n",
    "            yield batch_data, batch_labels"
   ]
  },
  {
   "cell_type": "code",
   "execution_count": 5,
   "metadata": {},
   "outputs": [
    {
     "name": "stdout",
     "output_type": "stream",
     "text": [
      "# training sequences = 663\n",
      "# validation sequences = 100\n",
      "# epochs = 30\n"
     ]
    }
   ],
   "source": [
    "curr_dt_time = datetime.datetime.now()\n",
    "train_path = 'Project_data/train'\n",
    "val_path = 'Project_data/val'\n",
    "num_train_sequences = len(train_doc)\n",
    "print('# training sequences =', num_train_sequences)\n",
    "num_val_sequences = len(val_doc)\n",
    "print('# validation sequences =', num_val_sequences)\n",
    "num_epochs = 30\n",
    "print ('# epochs =', num_epochs)"
   ]
  },
  {
   "cell_type": "markdown",
   "metadata": {},
   "source": [
    "## Model\n",
    "Here you make the model using different functionalities that Keras provides. Remember to use `Conv3D` and `MaxPooling3D` and not `Conv2D` and `Maxpooling2D`. Also remember that the last layer is the softmax. Remember that the network is designed in such a way that the model is able to fit in the memory of the webcam."
   ]
  },
  {
   "cell_type": "code",
   "execution_count": 6,
   "metadata": {},
   "outputs": [],
   "source": [
    "from keras.models import Sequential\n",
    "from keras.layers import Dense, GRU, Dropout, Flatten, BatchNormalization, Activation\n",
    "from keras.layers.convolutional import Conv3D, MaxPooling3D\n",
    "from keras.callbacks import ModelCheckpoint, ReduceLROnPlateau\n",
    "from keras import optimizers\n",
    "\n",
    "model = Sequential()\n",
    "model.add(Conv3D(32, (3,3,3), strides=(1,1,1), padding='same', input_shape=(18,84,84,3)))\n",
    "model.add(BatchNormalization())\n",
    "model.add(Activation('elu'))\n",
    "model.add(MaxPooling3D(pool_size=(2,2,1), strides=(2,2,1)))\n",
    "\n",
    "model.add(Conv3D(128, (3,3,3), padding='same'))\n",
    "model.add(BatchNormalization())\n",
    "model.add(Activation('elu'))\n",
    "model.add(MaxPooling3D(pool_size=(2,2,2), strides=(2,2,2)))\n",
    "\n",
    "model.add(Conv3D(256, (3,3,3), padding='same'))\n",
    "model.add(BatchNormalization())\n",
    "model.add(Activation('elu'))\n",
    "model.add(MaxPooling3D(pool_size=(2,2,2), strides=(2,2,2)))\n",
    "\n",
    "model.add(Dropout(0.25))\n",
    "\n",
    "model.add(Conv3D(256, (3,3,3),  padding='same'))\n",
    "model.add(BatchNormalization())\n",
    "model.add(Activation('elu'))\n",
    "model.add(MaxPooling3D(pool_size=(2,2,2), strides=(2,2,2)))\n",
    "\n",
    "model.add(Flatten())\n",
    "model.add(Dense(256, activation='elu'))\n",
    "model.add(Dropout(0.5))\n",
    "model.add(Dense(256, activation='elu'))\n",
    "model.add(Dropout(0.5))\n",
    "model.add(Dense(5, activation='softmax'))"
   ]
  },
  {
   "cell_type": "markdown",
   "metadata": {},
   "source": [
    "Now that you have written the model, the next step is to `compile` the model. When you print the `summary` of the model, you'll see the total number of parameters you have to train."
   ]
  },
  {
   "cell_type": "code",
   "execution_count": 7,
   "metadata": {},
   "outputs": [
    {
     "name": "stdout",
     "output_type": "stream",
     "text": [
      "_________________________________________________________________\n",
      "Layer (type)                 Output Shape              Param #   \n",
      "=================================================================\n",
      "conv3d_1 (Conv3D)            (None, 18, 84, 84, 32)    2624      \n",
      "_________________________________________________________________\n",
      "batch_normalization_1 (Batch (None, 18, 84, 84, 32)    128       \n",
      "_________________________________________________________________\n",
      "activation_1 (Activation)    (None, 18, 84, 84, 32)    0         \n",
      "_________________________________________________________________\n",
      "max_pooling3d_1 (MaxPooling3 (None, 9, 42, 84, 32)     0         \n",
      "_________________________________________________________________\n",
      "conv3d_2 (Conv3D)            (None, 9, 42, 84, 128)    110720    \n",
      "_________________________________________________________________\n",
      "batch_normalization_2 (Batch (None, 9, 42, 84, 128)    512       \n",
      "_________________________________________________________________\n",
      "activation_2 (Activation)    (None, 9, 42, 84, 128)    0         \n",
      "_________________________________________________________________\n",
      "max_pooling3d_2 (MaxPooling3 (None, 4, 21, 42, 128)    0         \n",
      "_________________________________________________________________\n",
      "conv3d_3 (Conv3D)            (None, 4, 21, 42, 256)    884992    \n",
      "_________________________________________________________________\n",
      "batch_normalization_3 (Batch (None, 4, 21, 42, 256)    1024      \n",
      "_________________________________________________________________\n",
      "activation_3 (Activation)    (None, 4, 21, 42, 256)    0         \n",
      "_________________________________________________________________\n",
      "max_pooling3d_3 (MaxPooling3 (None, 2, 10, 21, 256)    0         \n",
      "_________________________________________________________________\n",
      "dropout_1 (Dropout)          (None, 2, 10, 21, 256)    0         \n",
      "_________________________________________________________________\n",
      "conv3d_4 (Conv3D)            (None, 2, 10, 21, 256)    1769728   \n",
      "_________________________________________________________________\n",
      "batch_normalization_4 (Batch (None, 2, 10, 21, 256)    1024      \n",
      "_________________________________________________________________\n",
      "activation_4 (Activation)    (None, 2, 10, 21, 256)    0         \n",
      "_________________________________________________________________\n",
      "max_pooling3d_4 (MaxPooling3 (None, 1, 5, 10, 256)     0         \n",
      "_________________________________________________________________\n",
      "flatten_1 (Flatten)          (None, 12800)             0         \n",
      "_________________________________________________________________\n",
      "dense_1 (Dense)              (None, 256)               3277056   \n",
      "_________________________________________________________________\n",
      "dropout_2 (Dropout)          (None, 256)               0         \n",
      "_________________________________________________________________\n",
      "dense_2 (Dense)              (None, 256)               65792     \n",
      "_________________________________________________________________\n",
      "dropout_3 (Dropout)          (None, 256)               0         \n",
      "_________________________________________________________________\n",
      "dense_3 (Dense)              (None, 5)                 1285      \n",
      "=================================================================\n",
      "Total params: 6,114,885\n",
      "Trainable params: 6,113,541\n",
      "Non-trainable params: 1,344\n",
      "_________________________________________________________________\n",
      "None\n"
     ]
    }
   ],
   "source": [
    "sgd = optimizers.SGD(lr=0.001, decay=1e-6, momentum=0.7, nesterov=True)\n",
    "model.compile(optimizer=sgd, loss='categorical_crossentropy', metrics=['categorical_accuracy'])\n",
    "print (model.summary())"
   ]
  },
  {
   "cell_type": "markdown",
   "metadata": {},
   "source": [
    "Let us create the `train_generator` and the `val_generator` which will be used in `.fit_generator`."
   ]
  },
  {
   "cell_type": "code",
   "execution_count": 8,
   "metadata": {},
   "outputs": [],
   "source": [
    "train_generator = generator(train_path, train_doc, batch_size)\n",
    "val_generator = generator(val_path, val_doc, batch_size)"
   ]
  },
  {
   "cell_type": "code",
   "execution_count": 9,
   "metadata": {},
   "outputs": [],
   "source": [
    "model_name = 'model_init' + '_' + str(curr_dt_time).replace(' ','').replace(':','_') + '/'\n",
    "    \n",
    "if not os.path.exists(model_name):\n",
    "    os.mkdir(model_name)\n",
    "        \n",
    "filepath = model_name + 'model-{epoch:05d}-{loss:.5f}-{categorical_accuracy:.5f}-{val_loss:.5f}-{val_categorical_accuracy:.5f}.h5'\n",
    "\n",
    "checkpoint = ModelCheckpoint(filepath, monitor='val_loss', verbose=1, save_best_only=False, save_weights_only=False, mode='auto', period=1)\n",
    "\n",
    "LR = ReduceLROnPlateau(monitor='val_loss', factor=0.5, patience=2, verbose=1, mode='min', min_delta=0.0001, cooldown=0, min_lr=0.00001)\n",
    "callbacks_list = [checkpoint, LR]"
   ]
  },
  {
   "cell_type": "code",
   "execution_count": 10,
   "metadata": {},
   "outputs": [],
   "source": [
    "if (num_train_sequences%batch_size) == 0:\n",
    "    steps_per_epoch = int(num_train_sequences/batch_size)\n",
    "else:\n",
    "    steps_per_epoch = (num_train_sequences//batch_size) + 1\n",
    "\n",
    "if (num_val_sequences%batch_size) == 0:\n",
    "    validation_steps = int(num_val_sequences/batch_size)\n",
    "else:\n",
    "    validation_steps = (num_val_sequences//batch_size) + 1"
   ]
  },
  {
   "cell_type": "markdown",
   "metadata": {},
   "source": [
    "Let us now fit the model. This will start training the model and with the help of the checkpoints, you'll be able to save the model at the end of each epoch."
   ]
  },
  {
   "cell_type": "code",
   "execution_count": 11,
   "metadata": {
    "scrolled": false
   },
   "outputs": [
    {
     "name": "stdout",
     "output_type": "stream",
     "text": [
      "Source path =  Project_data/val ; batch size = 51\n",
      "Source path =  Project_data/train ; batch size = 51\n",
      "Epoch 1/30\n"
     ]
    },
    {
     "name": "stderr",
     "output_type": "stream",
     "text": [
      "/mnt/disks/user/anaconda3/lib/python3.6/site-packages/skimage/transform/_warps.py:105: UserWarning: The default mode, 'constant', will be changed to 'reflect' in skimage 0.15.\n",
      "  warn(\"The default mode, 'constant', will be changed to 'reflect' in \"\n",
      "/mnt/disks/user/anaconda3/lib/python3.6/site-packages/skimage/transform/_warps.py:110: UserWarning: Anti-aliasing will be enabled by default in skimage 0.15 to avoid aliasing artifacts when down-sampling images.\n",
      "  warn(\"Anti-aliasing will be enabled by default in skimage 0.15 to \"\n"
     ]
    },
    {
     "name": "stdout",
     "output_type": "stream",
     "text": [
      "13/13 [==============================] - 90s 7s/step - loss: 3.2797 - categorical_accuracy: 0.2459 - val_loss: 1.5291 - val_categorical_accuracy: 0.3600\n",
      "\n",
      "Epoch 00001: saving model to model_init_2021-02-0119_12_53.698178/model-00001-3.27973-0.24585-1.52913-0.36000.h5\n",
      "Epoch 2/30\n",
      "13/13 [==============================] - 59s 5s/step - loss: 1.9379 - categorical_accuracy: 0.3620 - val_loss: 1.2936 - val_categorical_accuracy: 0.5100\n",
      "\n",
      "Epoch 00002: saving model to model_init_2021-02-0119_12_53.698178/model-00002-1.93791-0.36199-1.29361-0.51000.h5\n",
      "Epoch 3/30\n",
      "13/13 [==============================] - 63s 5s/step - loss: 1.6133 - categorical_accuracy: 0.4465 - val_loss: 1.2141 - val_categorical_accuracy: 0.5400\n",
      "\n",
      "Epoch 00003: saving model to model_init_2021-02-0119_12_53.698178/model-00003-1.61327-0.44646-1.21411-0.54000.h5\n",
      "Epoch 4/30\n",
      "13/13 [==============================] - 62s 5s/step - loss: 1.5364 - categorical_accuracy: 0.4389 - val_loss: 1.1508 - val_categorical_accuracy: 0.5200\n",
      "\n",
      "Epoch 00004: saving model to model_init_2021-02-0119_12_53.698178/model-00004-1.53637-0.43891-1.15078-0.52000.h5\n",
      "Epoch 5/30\n",
      "13/13 [==============================] - 62s 5s/step - loss: 1.4455 - categorical_accuracy: 0.4962 - val_loss: 1.2497 - val_categorical_accuracy: 0.5100\n",
      "\n",
      "Epoch 00005: saving model to model_init_2021-02-0119_12_53.698178/model-00005-1.44554-0.49623-1.24968-0.51000.h5\n",
      "Epoch 6/30\n",
      "13/13 [==============================] - 58s 4s/step - loss: 1.3260 - categorical_accuracy: 0.5264 - val_loss: 1.0180 - val_categorical_accuracy: 0.6000\n",
      "\n",
      "Epoch 00006: saving model to model_init_2021-02-0119_12_53.698178/model-00006-1.32602-0.52640-1.01795-0.60000.h5\n",
      "Epoch 7/30\n",
      "13/13 [==============================] - 62s 5s/step - loss: 1.2126 - categorical_accuracy: 0.5686 - val_loss: 0.7743 - val_categorical_accuracy: 0.7000\n",
      "\n",
      "Epoch 00007: saving model to model_init_2021-02-0119_12_53.698178/model-00007-1.21256-0.56863-0.77434-0.70000.h5\n",
      "Epoch 8/30\n",
      "13/13 [==============================] - 64s 5s/step - loss: 1.1441 - categorical_accuracy: 0.5792 - val_loss: 0.8067 - val_categorical_accuracy: 0.7600\n",
      "\n",
      "Epoch 00008: saving model to model_init_2021-02-0119_12_53.698178/model-00008-1.14411-0.57919-0.80674-0.76000.h5\n",
      "Epoch 9/30\n",
      "13/13 [==============================] - 59s 5s/step - loss: 1.0980 - categorical_accuracy: 0.5882 - val_loss: 1.1000 - val_categorical_accuracy: 0.6100\n",
      "\n",
      "Epoch 00009: saving model to model_init_2021-02-0119_12_53.698178/model-00009-1.09799-0.58824-1.09999-0.61000.h5\n",
      "\n",
      "Epoch 00009: ReduceLROnPlateau reducing learning rate to 0.0005000000237487257.\n",
      "Epoch 10/30\n",
      "13/13 [==============================] - 59s 5s/step - loss: 0.9245 - categorical_accuracy: 0.6576 - val_loss: 0.7457 - val_categorical_accuracy: 0.7600\n",
      "\n",
      "Epoch 00010: saving model to model_init_2021-02-0119_12_53.698178/model-00010-0.92454-0.65762-0.74569-0.76000.h5\n",
      "Epoch 11/30\n",
      "13/13 [==============================] - 64s 5s/step - loss: 0.8594 - categorical_accuracy: 0.6697 - val_loss: 0.7472 - val_categorical_accuracy: 0.7500\n",
      "\n",
      "Epoch 00011: saving model to model_init_2021-02-0119_12_53.698178/model-00011-0.85943-0.66968-0.74717-0.75000.h5\n",
      "Epoch 12/30\n",
      "13/13 [==============================] - 59s 5s/step - loss: 0.8353 - categorical_accuracy: 0.6863 - val_loss: 0.8163 - val_categorical_accuracy: 0.7100\n",
      "\n",
      "Epoch 00012: saving model to model_init_2021-02-0119_12_53.698178/model-00012-0.83528-0.68627-0.81631-0.71000.h5\n",
      "\n",
      "Epoch 00012: ReduceLROnPlateau reducing learning rate to 0.0002500000118743628.\n",
      "Epoch 13/30\n",
      "13/13 [==============================] - 59s 5s/step - loss: 0.7654 - categorical_accuracy: 0.7225 - val_loss: 0.7607 - val_categorical_accuracy: 0.7100\n",
      "\n",
      "Epoch 00013: saving model to model_init_2021-02-0119_12_53.698178/model-00013-0.76536-0.72247-0.76075-0.71000.h5\n",
      "Epoch 14/30\n",
      "13/13 [==============================] - 62s 5s/step - loss: 0.7469 - categorical_accuracy: 0.7315 - val_loss: 0.7562 - val_categorical_accuracy: 0.7300\n",
      "\n",
      "Epoch 00014: saving model to model_init_2021-02-0119_12_53.698178/model-00014-0.74685-0.73152-0.75622-0.73000.h5\n",
      "\n",
      "Epoch 00014: ReduceLROnPlateau reducing learning rate to 0.0001250000059371814.\n",
      "Epoch 15/30\n",
      "13/13 [==============================] - 59s 5s/step - loss: 0.7734 - categorical_accuracy: 0.7119 - val_loss: 0.7379 - val_categorical_accuracy: 0.7300\n",
      "\n",
      "Epoch 00015: saving model to model_init_2021-02-0119_12_53.698178/model-00015-0.77342-0.71192-0.73789-0.73000.h5\n",
      "Epoch 16/30\n",
      "13/13 [==============================] - 59s 5s/step - loss: 0.7134 - categorical_accuracy: 0.7210 - val_loss: 0.7196 - val_categorical_accuracy: 0.7300\n",
      "\n",
      "Epoch 00016: saving model to model_init_2021-02-0119_12_53.698178/model-00016-0.71345-0.72097-0.71956-0.73000.h5\n",
      "Epoch 17/30\n",
      "13/13 [==============================] - 59s 5s/step - loss: 0.6861 - categorical_accuracy: 0.7511 - val_loss: 0.7179 - val_categorical_accuracy: 0.7700\n",
      "\n",
      "Epoch 00017: saving model to model_init_2021-02-0119_12_53.698178/model-00017-0.68610-0.75113-0.71786-0.77000.h5\n",
      "Epoch 18/30\n",
      "13/13 [==============================] - 60s 5s/step - loss: 0.7370 - categorical_accuracy: 0.7164 - val_loss: 0.7254 - val_categorical_accuracy: 0.7400\n",
      "\n",
      "Epoch 00018: saving model to model_init_2021-02-0119_12_53.698178/model-00018-0.73704-0.71644-0.72543-0.74000.h5\n",
      "Epoch 19/30\n",
      "13/13 [==============================] - 59s 5s/step - loss: 0.6401 - categorical_accuracy: 0.7632 - val_loss: 0.7200 - val_categorical_accuracy: 0.7500\n",
      "\n",
      "Epoch 00019: saving model to model_init_2021-02-0119_12_53.698178/model-00019-0.64012-0.76320-0.72000-0.75000.h5\n",
      "\n",
      "Epoch 00019: ReduceLROnPlateau reducing learning rate to 6.25000029685907e-05.\n",
      "Epoch 20/30\n",
      "13/13 [==============================] - 62s 5s/step - loss: 0.6796 - categorical_accuracy: 0.7496 - val_loss: 0.7222 - val_categorical_accuracy: 0.7400\n",
      "\n",
      "Epoch 00020: saving model to model_init_2021-02-0119_12_53.698178/model-00020-0.67957-0.74962-0.72223-0.74000.h5\n",
      "Epoch 21/30\n",
      "13/13 [==============================] - 62s 5s/step - loss: 0.6886 - categorical_accuracy: 0.7557 - val_loss: 0.7237 - val_categorical_accuracy: 0.7500\n",
      "\n",
      "Epoch 00021: saving model to model_init_2021-02-0119_12_53.698178/model-00021-0.68858-0.75566-0.72372-0.75000.h5\n",
      "\n",
      "Epoch 00021: ReduceLROnPlateau reducing learning rate to 3.125000148429535e-05.\n",
      "Epoch 22/30\n",
      "13/13 [==============================] - 61s 5s/step - loss: 0.6876 - categorical_accuracy: 0.7541 - val_loss: 0.7279 - val_categorical_accuracy: 0.7500\n",
      "\n",
      "Epoch 00022: saving model to model_init_2021-02-0119_12_53.698178/model-00022-0.68761-0.75415-0.72787-0.75000.h5\n",
      "Epoch 23/30\n",
      "13/13 [==============================] - 63s 5s/step - loss: 0.6653 - categorical_accuracy: 0.7481 - val_loss: 0.7176 - val_categorical_accuracy: 0.7500\n",
      "\n",
      "Epoch 00023: saving model to model_init_2021-02-0119_12_53.698178/model-00023-0.66527-0.74811-0.71762-0.75000.h5\n",
      "Epoch 24/30\n",
      "13/13 [==============================] - 62s 5s/step - loss: 0.6782 - categorical_accuracy: 0.7210 - val_loss: 0.7132 - val_categorical_accuracy: 0.7500\n",
      "\n",
      "Epoch 00024: saving model to model_init_2021-02-0119_12_53.698178/model-00024-0.67815-0.72097-0.71315-0.75000.h5\n",
      "Epoch 25/30\n",
      "13/13 [==============================] - 62s 5s/step - loss: 0.6356 - categorical_accuracy: 0.7541 - val_loss: 0.7109 - val_categorical_accuracy: 0.7400\n",
      "\n",
      "Epoch 00025: saving model to model_init_2021-02-0119_12_53.698178/model-00025-0.63562-0.75415-0.71086-0.74000.h5\n",
      "Epoch 26/30\n",
      "13/13 [==============================] - 59s 5s/step - loss: 0.7174 - categorical_accuracy: 0.7451 - val_loss: 0.7107 - val_categorical_accuracy: 0.7400\n",
      "\n",
      "Epoch 00026: saving model to model_init_2021-02-0119_12_53.698178/model-00026-0.71741-0.74510-0.71068-0.74000.h5\n",
      "Epoch 27/30\n",
      "13/13 [==============================] - 61s 5s/step - loss: 0.6185 - categorical_accuracy: 0.7768 - val_loss: 0.7110 - val_categorical_accuracy: 0.7500\n",
      "\n",
      "Epoch 00027: saving model to model_init_2021-02-0119_12_53.698178/model-00027-0.61854-0.77677-0.71098-0.75000.h5\n",
      "Epoch 28/30\n",
      "13/13 [==============================] - 59s 5s/step - loss: 0.6963 - categorical_accuracy: 0.7300 - val_loss: 0.7127 - val_categorical_accuracy: 0.7600\n",
      "\n",
      "Epoch 00028: saving model to model_init_2021-02-0119_12_53.698178/model-00028-0.69631-0.73002-0.71270-0.76000.h5\n",
      "\n",
      "Epoch 00028: ReduceLROnPlateau reducing learning rate to 1.5625000742147677e-05.\n",
      "Epoch 29/30\n"
     ]
    },
    {
     "name": "stdout",
     "output_type": "stream",
     "text": [
      "13/13 [==============================] - 60s 5s/step - loss: 0.6497 - categorical_accuracy: 0.7526 - val_loss: 0.7146 - val_categorical_accuracy: 0.7600\n",
      "\n",
      "Epoch 00029: saving model to model_init_2021-02-0119_12_53.698178/model-00029-0.64968-0.75264-0.71455-0.76000.h5\n",
      "Epoch 30/30\n",
      "13/13 [==============================] - 62s 5s/step - loss: 0.6294 - categorical_accuracy: 0.7572 - val_loss: 0.7130 - val_categorical_accuracy: 0.7400\n",
      "\n",
      "Epoch 00030: saving model to model_init_2021-02-0119_12_53.698178/model-00030-0.62936-0.75716-0.71297-0.74000.h5\n",
      "\n",
      "Epoch 00030: ReduceLROnPlateau reducing learning rate to 1e-05.\n"
     ]
    },
    {
     "data": {
      "text/plain": [
       "<keras.callbacks.History at 0x7fd843d25f60>"
      ]
     },
     "execution_count": 11,
     "metadata": {},
     "output_type": "execute_result"
    }
   ],
   "source": [
    "model.fit_generator(train_generator, steps_per_epoch=steps_per_epoch, epochs=num_epochs, verbose=1, \n",
    "                    callbacks=callbacks_list, validation_data=val_generator, \n",
    "                    validation_steps=validation_steps, class_weight=None, workers=1, initial_epoch=0)"
   ]
  },
  {
   "cell_type": "code",
   "execution_count": null,
   "metadata": {},
   "outputs": [],
   "source": []
  }
 ],
 "metadata": {
  "kernelspec": {
   "display_name": "Python 3",
   "language": "python",
   "name": "python3"
  },
  "language_info": {
   "codemirror_mode": {
    "name": "ipython",
    "version": 3
   },
   "file_extension": ".py",
   "mimetype": "text/x-python",
   "name": "python",
   "nbconvert_exporter": "python",
   "pygments_lexer": "ipython3",
   "version": "3.6.8"
  }
 },
 "nbformat": 4,
 "nbformat_minor": 2
}
